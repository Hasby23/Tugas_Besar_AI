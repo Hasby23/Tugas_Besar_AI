{
  "nbformat": 4,
  "nbformat_minor": 0,
  "metadata": {
    "colab": {
      "name": "Text GC.ipynb",
      "provenance": [],
      "mount_file_id": "1pZ9ipVPLIEf2DXtQGXexb-kIRT_qK5mN",
      "authorship_tag": "ABX9TyOxWnyqDrkVlO+2FsFhVkaU",
      "include_colab_link": true
    },
    "kernelspec": {
      "name": "python3",
      "display_name": "Python 3"
    },
    "language_info": {
      "name": "python"
    }
  },
  "cells": [
    {
      "cell_type": "markdown",
      "metadata": {
        "id": "view-in-github",
        "colab_type": "text"
      },
      "source": [
        "<a href=\"https://colab.research.google.com/github/Hasby23/Tugas_Besar_AI/blob/main/Copy_of_Test.ipynb\" target=\"_parent\"><img src=\"https://colab.research.google.com/assets/colab-badge.svg\" alt=\"Open In Colab\"/></a>"
      ]
    },
    {
      "cell_type": "code",
      "metadata": {
        "id": "V0ddvFEuWyh9",
        "colab": {
          "base_uri": "https://localhost:8080/"
        },
        "outputId": "e205e185-c2df-4a2e-eaaa-bac8e28a28ff"
      },
      "source": [
        "print(\"Hello Google colab\")"
      ],
      "execution_count": null,
      "outputs": [
        {
          "output_type": "stream",
          "name": "stdout",
          "text": [
            "Hello Google colab\n"
          ]
        }
      ]
    },
    {
      "cell_type": "code",
      "metadata": {
        "id": "FJlZMvb0Wyno"
      },
      "source": [
        "print(\"Hi GitHub\")"
      ],
      "execution_count": null,
      "outputs": []
    },
    {
      "cell_type": "code",
      "metadata": {
        "id": "Yj74R1zuXYTR"
      },
      "source": [
        "print(\"Hello back\")"
      ],
      "execution_count": null,
      "outputs": []
    },
    {
      "cell_type": "code",
      "metadata": {
        "colab": {
          "base_uri": "https://localhost:8080/"
        },
        "id": "ux-_1z2MXqTW",
        "outputId": "57556c8d-7fb5-4425-9234-a243ebe74575"
      },
      "source": [
        "print(\"My Name Is Hasby\")"
      ],
      "execution_count": null,
      "outputs": [
        {
          "output_type": "stream",
          "name": "stdout",
          "text": [
            "My Name Is Hasby\n"
          ]
        }
      ]
    }
  ]
}